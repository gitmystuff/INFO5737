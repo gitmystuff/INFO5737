{
  "nbformat": 4,
  "nbformat_minor": 0,
  "metadata": {
    "colab": {
      "provenance": [],
      "authorship_tag": "ABX9TyObAHAMEFeykTCs8j0AGm/h",
      "include_colab_link": true
    },
    "kernelspec": {
      "name": "python3",
      "display_name": "Python 3"
    },
    "language_info": {
      "name": "python"
    }
  },
  "cells": [
    {
      "cell_type": "markdown",
      "metadata": {
        "id": "view-in-github",
        "colab_type": "text"
      },
      "source": [
        "<a href=\"https://colab.research.google.com/github/gitmystuff/INFO5737/blob/main/Server_III.ipynb\" target=\"_parent\"><img src=\"https://colab.research.google.com/assets/colab-badge.svg\" alt=\"Open In Colab\"/></a>"
      ]
    },
    {
      "cell_type": "code",
      "execution_count": null,
      "metadata": {
        "id": "n2L1QGNh5SKg"
      },
      "outputs": [],
      "source": [
        "!pip install transformers fastapi uvicorn python-multipart pyngrok -q"
      ]
    },
    {
      "cell_type": "code",
      "source": [
        "import logging\n",
        "from fastapi import FastAPI, Request, HTTPException\n",
        "import uvicorn\n",
        "import torch\n",
        "import nest_asyncio\n",
        "from google.colab import userdata\n",
        "from pyngrok import ngrok\n",
        "from transformers import AutoTokenizer, AutoModelForCausalLM\n",
        "\n",
        "logging.basicConfig(level=logging.DEBUG)\n",
        "\n",
        "# Load the Chatbot Model\n",
        "model_name = \"gpt2\"\n",
        "# model_name = \"meta-llama/Llama-2-7b-chat-hf\"\n",
        "tokenizer = AutoTokenizer.from_pretrained(model_name)\n",
        "model = AutoModelForCausalLM.from_pretrained(model_name)\n",
        "\n",
        "# Create the FastAPI App\n",
        "app = FastAPI()\n",
        "\n",
        "# Define an Endpoint for Chatbot Interaction\n",
        "@app.post(\"/chat/\")\n",
        "async def chat(request: Request):\n",
        "    try:\n",
        "        data = await request.json()\n",
        "        user_input = data[\"message\"]\n",
        "        history = data.get(\"history\", [])\n",
        "\n",
        "        # Construct the input prompt\n",
        "        prompt = f\"You are a concise chatbot. User: {user_input} Chatbot Response: \"\n",
        "        input_ids = tokenizer.encode(prompt, return_tensors=\"pt\")\n",
        "\n",
        "        # Generate the response\n",
        "        output = model.generate(input_ids, max_length=500, pad_token_id=tokenizer.eos_token_id)\n",
        "        bot_response = tokenizer.decode(output[0], skip_special_tokens=True)\n",
        "\n",
        "        # Update history\n",
        "        new_history = history + [{\"user\": user_input, \"bot\": bot_response}]\n",
        "\n",
        "        logging.debug(f\"User Input: {user_input}\")\n",
        "        logging.debug(f\"Bot Response: {bot_response}\")\n",
        "        logging.debug(f\"History: {new_history}\")\n",
        "\n",
        "        return {\"response\": bot_response, \"history\": new_history}\n",
        "\n",
        "    except Exception as e:\n",
        "        logging.exception(\"Exception in /chat/ endpoint:\")\n",
        "        raise HTTPException(status_code=500, detail=\"Internal server error\")\n",
        "\n",
        "# Run the FastAPI App and Expose it with Ngrok\n",
        "if __name__ == \"__main__\":\n",
        "    nest_asyncio.apply()\n",
        "\n",
        "    authtoken = userdata.get(\"NGROK_KEY\")\n",
        "\n",
        "    if authtoken:\n",
        "        ngrok.set_auth_token(authtoken)\n",
        "\n",
        "        http_tunnel = ngrok.connect(8000)\n",
        "        print(\"Public URL:\", http_tunnel.public_url)\n",
        "\n",
        "        uvicorn.run(app, host=\"0.0.0.0\", port=8000)\n",
        "    else:\n",
        "        print(\"Error: ngrok authtoken not found. Please add it to Colab user secrets as 'NGROK_KEY'.\")"
      ],
      "metadata": {
        "id": "Tu5HxKnc5S4E"
      },
      "execution_count": null,
      "outputs": []
    }
  ]
}