{
  "nbformat": 4,
  "nbformat_minor": 0,
  "metadata": {
    "colab": {
      "provenance": [],
      "authorship_tag": "ABX9TyOjxkqHxUH7YZOGon17VTn0",
      "include_colab_link": true
    },
    "kernelspec": {
      "name": "python3",
      "display_name": "Python 3"
    },
    "language_info": {
      "name": "python"
    }
  },
  "cells": [
    {
      "cell_type": "markdown",
      "metadata": {
        "id": "view-in-github",
        "colab_type": "text"
      },
      "source": [
        "<a href=\"https://colab.research.google.com/github/gitmystuff/INFO5737/blob/main/Server_I.ipynb\" target=\"_parent\"><img src=\"https://colab.research.google.com/assets/colab-badge.svg\" alt=\"Open In Colab\"/></a>"
      ]
    },
    {
      "cell_type": "code",
      "execution_count": null,
      "metadata": {
        "id": "Zss7qvLB10kp"
      },
      "outputs": [],
      "source": [
        "# Install necessary libraries\n",
        "!pip install transformers fastapi uvicorn python-multipart pyngrok slowapi -q"
      ]
    },
    {
      "cell_type": "code",
      "source": [
        "import logging\n",
        "from fastapi import FastAPI, Request, HTTPException\n",
        "import uvicorn\n",
        "import torch\n",
        "import nest_asyncio\n",
        "from google.colab import userdata\n",
        "from pyngrok import ngrok\n",
        "import requests\n",
        "import json\n",
        "\n",
        "logging.basicConfig(level=logging.DEBUG)\n",
        "\n",
        "# Hugging Face Inference API details\n",
        "HF_TOKEN = userdata.get(\"HF_TOKEN\")  # Store your Hugging Face token in Colab secrets\n",
        "# API_URL = \"https://api-inference.huggingface.co/models/gpt2\"\n",
        "# API_URL = \"https://api-inference.huggingface.co/models/distilgpt2\"\n",
        "# API_URL = \"https://api-inference.huggingface.co/models/codellama/CodeLlama-7b-hf\"\n",
        "API_URL = \"https://api-inference.huggingface.co/models/meta-llama/Meta-Llama-3-8B-Instruct\"\n",
        "# API_URL = \"https://api-inference.huggingface.co/models/meta-llama/Llama-2-7b-chat-hf\"\n",
        "headers = {\"Authorization\": f\"Bearer {HF_TOKEN}\"}\n",
        "\n",
        "# Create the FastAPI App\n",
        "app = FastAPI()\n",
        "\n",
        "# Define an Endpoint for Chatbot Interaction\n",
        "@app.post(\"/chat/\")\n",
        "async def chat(request: Request):\n",
        "    try:\n",
        "        data = await request.json()\n",
        "        user_input = data[\"message\"]\n",
        "        history = data.get(\"history\", [])\n",
        "\n",
        "        # Prompt engineering (basic)\n",
        "        prompt = f\"You are a concise chatbot. User: {user_input} Chatbot Response: \"\n",
        "\n",
        "        # Simplified payload (send the engineered prompt)\n",
        "        payload = {\"inputs\": prompt}\n",
        "\n",
        "        # Call the Hugging Face Inference API\n",
        "        response = requests.post(API_URL, headers=headers, json=payload)\n",
        "        response.raise_for_status()  # Raise HTTPError for API errors\n",
        "        response_data = response.json()\n",
        "        bot_response = response_data[0][\"generated_text\"]\n",
        "\n",
        "        # Truncate response (to control length)\n",
        "        bot_response = bot_response[:500]  # Limit to 100 characters\n",
        "\n",
        "        # Update history (simplified)\n",
        "        new_history = history + [{\"user\": user_input, \"bot\": bot_response}]\n",
        "\n",
        "        logging.debug(f\"User Input: {user_input}\")\n",
        "        logging.debug(f\"Bot Response: {bot_response}\")\n",
        "        logging.debug(f\"History: {new_history}\")\n",
        "\n",
        "        return {\"response\": bot_response, \"history\": new_history}\n",
        "\n",
        "    except requests.exceptions.HTTPError as api_error:\n",
        "        logging.error(f\"Hugging Face API Error: {api_error}\")\n",
        "        raise HTTPException(status_code=500, detail=f\"Hugging Face API Error: {api_error}\")\n",
        "    except Exception as e:\n",
        "        logging.exception(\"Exception in /chat/ endpoint:\")\n",
        "        raise HTTPException(status_code=500, detail=\"Internal server error\")\n",
        "\n",
        "# Run the FastAPI App and Expose it with Ngrok\n",
        "if __name__ == \"__main__\":\n",
        "    nest_asyncio.apply()\n",
        "\n",
        "    authtoken = userdata.get(\"NGROK_KEY\")\n",
        "\n",
        "    if authtoken:\n",
        "        ngrok.set_auth_token(authtoken)\n",
        "\n",
        "        http_tunnel = ngrok.connect(8000)\n",
        "        print(\"Public URL:\", http_tunnel.public_url)\n",
        "\n",
        "        uvicorn.run(app, host=\"0.0.0.0\", port=8000)\n",
        "    else:\n",
        "        print(\"Error: ngrok authtoken not found. Please add it to Colab user secrets as 'NGROK_KEY'.\")"
      ],
      "metadata": {
        "id": "rFuNPmlnOLCq"
      },
      "execution_count": null,
      "outputs": []
    }
  ]
}